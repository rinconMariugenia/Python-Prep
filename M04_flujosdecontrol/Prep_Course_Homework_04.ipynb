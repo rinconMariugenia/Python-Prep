{
 "cells": [
  {
   "attachments": {},
   "cell_type": "markdown",
   "metadata": {},
   "source": [
    "## Flujos de Control"
   ]
  },
  {
   "attachments": {},
   "cell_type": "markdown",
   "metadata": {},
   "source": [
    "1) Crear una variable que contenga un elemento del conjunto de números enteros y luego imprimir por pantalla si es mayor o menor a cero"
   ]
  },
  {
   "cell_type": "code",
   "execution_count": 4,
   "metadata": {},
   "outputs": [
    {
     "name": "stdout",
     "output_type": "stream",
     "text": [
      "El numero es mayor que cero\n"
     ]
    }
   ],
   "source": [
    "var1= 7\n",
    "if var1 > 0:\n",
    "    print('El numero es mayor que cero')\n",
    "elif var1 < 0:\n",
    "    print('El numero es menor que cero')\n",
    "else:\n",
    "    print('El numero es igual a cero')"
   ]
  },
  {
   "attachments": {},
   "cell_type": "markdown",
   "metadata": {},
   "source": [
    "2) Crear dos variables y un condicional que informe si son del mismo tipo de dato"
   ]
  },
  {
   "cell_type": "code",
   "execution_count": 5,
   "metadata": {},
   "outputs": [
    {
     "name": "stdout",
     "output_type": "stream",
     "text": [
      "Las variables son de diferente tipo\n"
     ]
    }
   ],
   "source": [
    "var2= 3.5\n",
    "if type(var1) == type(var2):\n",
    "    print('Las variables son del mismo tipo')\n",
    "else:\n",
    "    print('Las variables son de diferente tipo')"
   ]
  },
  {
   "attachments": {},
   "cell_type": "markdown",
   "metadata": {},
   "source": [
    "3) Para los valores enteros del 1 al 20, imprimir por pantalla si es par o impar"
   ]
  },
  {
   "cell_type": "code",
   "execution_count": 6,
   "metadata": {},
   "outputs": [
    {
     "name": "stdout",
     "output_type": "stream",
     "text": [
      "El numero 1 es impar\n",
      "El numero 2 es par\n",
      "El numero 3 es impar\n",
      "El numero 4 es par\n",
      "El numero 5 es impar\n",
      "El numero 6 es par\n",
      "El numero 7 es impar\n",
      "El numero 8 es par\n",
      "El numero 9 es impar\n",
      "El numero 10 es par\n",
      "El numero 11 es impar\n",
      "El numero 12 es par\n",
      "El numero 13 es impar\n",
      "El numero 14 es par\n",
      "El numero 15 es impar\n",
      "El numero 16 es par\n",
      "El numero 17 es impar\n",
      "El numero 18 es par\n",
      "El numero 19 es impar\n",
      "El numero 20 es par\n"
     ]
    }
   ],
   "source": [
    "i=0\n",
    "for i in range(1,21):\n",
    "    if i%2 == 0:\n",
    "        print('El numero', i, 'es par')\n",
    "    else:\n",
    "        print('El numero', i, 'es impar')"
   ]
  },
  {
   "attachments": {},
   "cell_type": "markdown",
   "metadata": {},
   "source": [
    "4) En un ciclo for mostrar para los valores entre 0 y 5 el resultado de elevarlo a la potencia igual a 3"
   ]
  },
  {
   "cell_type": "code",
   "execution_count": 8,
   "metadata": {},
   "outputs": [
    {
     "name": "stdout",
     "output_type": "stream",
     "text": [
      "La potencia de 0 es: 0\n",
      "La potencia de 1 es: 1\n",
      "La potencia de 2 es: 8\n",
      "La potencia de 3 es: 27\n",
      "La potencia de 4 es: 64\n",
      "La potencia de 5 es: 125\n"
     ]
    }
   ],
   "source": [
    "for r in range(0,6):\n",
    "    potencia= r**3\n",
    "    print('La potencia de', r, 'es:', potencia)"
   ]
  },
  {
   "attachments": {},
   "cell_type": "markdown",
   "metadata": {},
   "source": [
    "5) Crear una variable que contenga un número entero y realizar un ciclo for la misma cantidad de ciclos"
   ]
  },
  {
   "cell_type": "code",
   "execution_count": 13,
   "metadata": {},
   "outputs": [
    {
     "name": "stdout",
     "output_type": "stream",
     "text": [
      "Ciclo nro: 1\n",
      "Ciclo nro: 2\n",
      "Ciclo nro: 3\n",
      "Ciclo nro: 4\n"
     ]
    }
   ],
   "source": [
    "var3= 4\n",
    "for i in range(1, var3+1):\n",
    "    print('Ciclo nro:', i)"
   ]
  },
  {
   "attachments": {},
   "cell_type": "markdown",
   "metadata": {},
   "source": [
    "6) Utilizar un ciclo while para realizar el factorial de un número guardado en una variable, sólo si la variable contiene un número entero mayor a 0"
   ]
  },
  {
   "cell_type": "code",
   "execution_count": 28,
   "metadata": {},
   "outputs": [
    {
     "name": "stdout",
     "output_type": "stream",
     "text": [
      "El factorial es 24\n"
     ]
    }
   ],
   "source": [
    "var= 4\n",
    "if (type(var) == int):\n",
    "    if (var > 0):\n",
    "        factorial = var\n",
    "        while (var > 1):\n",
    "            var = var - 1\n",
    "            factorial = factorial * var\n",
    "        print('El factorial es', factorial)\n",
    "    else:\n",
    "        print('La variable no es mayor a cero')\n",
    "else:\n",
    "    print('La variable no es un numero entero')"
   ]
  },
  {
   "attachments": {},
   "cell_type": "markdown",
   "metadata": {},
   "source": [
    "7) Crear un ciclo for dentro de un ciclo while"
   ]
  },
  {
   "cell_type": "code",
   "execution_count": 30,
   "metadata": {},
   "outputs": [
    {
     "name": "stdout",
     "output_type": "stream",
     "text": [
      "Ciclo while nro 5\n",
      "Ciclo for nro 1\n",
      "Ciclo while nro 5\n",
      "Ciclo for nro 2\n",
      "Ciclo while nro 5\n",
      "Ciclo for nro 3\n",
      "Ciclo while nro 5\n",
      "Ciclo for nro 4\n",
      "Ciclo while nro 4\n",
      "Ciclo for nro 1\n",
      "Ciclo while nro 4\n",
      "Ciclo for nro 2\n",
      "Ciclo while nro 4\n",
      "Ciclo for nro 3\n",
      "Ciclo while nro 3\n",
      "Ciclo for nro 1\n",
      "Ciclo while nro 3\n",
      "Ciclo for nro 2\n",
      "Ciclo while nro 2\n",
      "Ciclo for nro 1\n"
     ]
    }
   ],
   "source": [
    "n=5\n",
    "while (n>=0):\n",
    "    for i in range(1,n):\n",
    "        print('Ciclo while nro ' + str(n))\n",
    "        print('Ciclo for nro ' + str(i))\n",
    "    n -= 1"
   ]
  },
  {
   "attachments": {},
   "cell_type": "markdown",
   "metadata": {},
   "source": [
    "8) Crear un ciclo while dentro de un ciclo for"
   ]
  },
  {
   "cell_type": "code",
   "execution_count": 32,
   "metadata": {},
   "outputs": [
    {
     "name": "stdout",
     "output_type": "stream",
     "text": [
      "Ciclo for nro:  1\n",
      "Ciclo while nro:  5\n",
      "Ciclo while nro:  4\n",
      "Ciclo while nro:  3\n",
      "Ciclo while nro:  2\n",
      "Ciclo while nro:  1\n",
      "Ciclo for nro:  2\n",
      "Ciclo while nro:  5\n",
      "Ciclo while nro:  4\n",
      "Ciclo while nro:  3\n",
      "Ciclo while nro:  2\n",
      "Ciclo while nro:  1\n",
      "Ciclo for nro:  3\n",
      "Ciclo while nro:  5\n",
      "Ciclo while nro:  4\n",
      "Ciclo while nro:  3\n",
      "Ciclo while nro:  2\n",
      "Ciclo while nro:  1\n",
      "Ciclo for nro:  4\n",
      "Ciclo while nro:  5\n",
      "Ciclo while nro:  4\n",
      "Ciclo while nro:  3\n",
      "Ciclo while nro:  2\n",
      "Ciclo while nro:  1\n"
     ]
    }
   ],
   "source": [
    "n=5\n",
    "for i in range (1,n):\n",
    "    auxiliar= n\n",
    "    print('Ciclo for nro: ', i)\n",
    "    while (auxiliar>=1):\n",
    "        print('Ciclo while nro: ', auxiliar)\n",
    "        auxiliar -= 1"
   ]
  },
  {
   "attachments": {},
   "cell_type": "markdown",
   "metadata": {},
   "source": [
    "9) Imprimir los números primos existentes entre 0 y 30"
   ]
  },
  {
   "cell_type": "code",
   "execution_count": 37,
   "metadata": {},
   "outputs": [
    {
     "name": "stdout",
     "output_type": "stream",
     "text": [
      "Números primos entre 0 y 30:\n",
      "0\n",
      "1\n",
      "2\n",
      "3\n",
      "5\n",
      "7\n",
      "11\n",
      "13\n",
      "17\n",
      "19\n",
      "23\n",
      "29\n"
     ]
    }
   ],
   "source": [
    "print(\"Números primos entre 0 y 30:\")\n",
    "for num in range(0, 31):\n",
    "    es_primo = True\n",
    "    for i in range(2, int(num ** 0.5) + 1):\n",
    "        #para determinar si es primo, solo necesitamos buscar hasta la raíz cuadrada de ese número. \n",
    "        #Esto se debe a que si un número tiene un divisor mayor que su raíz cuadrada, entonces también tendría \n",
    "        #un divisor menor que su raíz cuadrada, y viceversa\n",
    "        if num % i == 0:\n",
    "            es_primo = False\n",
    "    if es_primo:\n",
    "        print(num)\n"
   ]
  },
  {
   "attachments": {},
   "cell_type": "markdown",
   "metadata": {},
   "source": [
    "10) ¿Se puede mejorar el proceso del punto 9? Utilizar las sentencias break y/ó continue para tal fin"
   ]
  },
  {
   "cell_type": "code",
   "execution_count": 38,
   "metadata": {},
   "outputs": [
    {
     "name": "stdout",
     "output_type": "stream",
     "text": [
      "Números primos entre 0 y 30:\n",
      "0\n",
      "1\n",
      "2\n",
      "3\n",
      "5\n",
      "7\n",
      "11\n",
      "13\n",
      "17\n",
      "19\n",
      "23\n",
      "29\n"
     ]
    }
   ],
   "source": [
    "print(\"Números primos entre 0 y 30:\")\n",
    "for num in range(0, 31):\n",
    "    es_primo = True\n",
    "    for i in range(2, int(num ** 0.5) + 1):\n",
    "        #para determinar si es primo, solo necesitamos buscar hasta la raíz cuadrada de ese número. \n",
    "        #Esto se debe a que si un número tiene un divisor mayor que su raíz cuadrada, entonces también tendría \n",
    "        #un divisor menor que su raíz cuadrada, y viceversa\n",
    "        if num % i == 0:\n",
    "            es_primo = False\n",
    "            break\n",
    "    if es_primo:\n",
    "        print(num)"
   ]
  },
  {
   "attachments": {},
   "cell_type": "markdown",
   "metadata": {},
   "source": [
    "11) En los puntos 9 y 10, se diseño un código que encuentra números primos y además se lo optimizó. ¿Es posible saber en qué medida se optimizó?"
   ]
  },
  {
   "cell_type": "code",
   "execution_count": 39,
   "metadata": {},
   "outputs": [
    {
     "name": "stdout",
     "output_type": "stream",
     "text": [
      "Números primos entre 0 y 30:\n",
      "0\n",
      "1\n",
      "2\n",
      "3\n",
      "5\n",
      "7\n",
      "11\n",
      "13\n",
      "17\n",
      "19\n",
      "23\n",
      "29\n",
      "Cantidad de ciclos:  70\n"
     ]
    }
   ],
   "source": [
    "sinBreak= 0\n",
    "print(\"Números primos entre 0 y 30:\")\n",
    "for num in range(0, 31):\n",
    "    es_primo = True\n",
    "    for i in range(2, int(num ** 0.5) + 1):\n",
    "        sinBreak += 1\n",
    "        #para determinar si es primo, solo necesitamos buscar hasta la raíz cuadrada de ese número. \n",
    "        #Esto se debe a que si un número tiene un divisor mayor que su raíz cuadrada, entonces también tendría \n",
    "        #un divisor menor que su raíz cuadrada, y viceversa\n",
    "        if num % i == 0:\n",
    "            es_primo = False\n",
    "    if es_primo:\n",
    "        print(num)\n",
    "print('Cantidad de ciclos: ', sinBreak)"
   ]
  },
  {
   "cell_type": "code",
   "execution_count": 41,
   "metadata": {},
   "outputs": [
    {
     "name": "stdout",
     "output_type": "stream",
     "text": [
      "Números primos entre 0 y 30:\n",
      "0\n",
      "1\n",
      "2\n",
      "3\n",
      "5\n",
      "7\n",
      "11\n",
      "13\n",
      "17\n",
      "19\n",
      "23\n",
      "29\n",
      "Cantidad de ciclos:  45\n",
      "Porcentaje de reduccion de ciclos:  64.28571428571429 %\n"
     ]
    }
   ],
   "source": [
    "conBreak= 0\n",
    "print(\"Números primos entre 0 y 30:\")\n",
    "for num in range(0, 31):\n",
    "    es_primo = True\n",
    "    for i in range(2, int(num ** 0.5) + 1):\n",
    "        conBreak += 1\n",
    "        #para determinar si es primo, solo necesitamos buscar hasta la raíz cuadrada de ese número. \n",
    "        #Esto se debe a que si un número tiene un divisor mayor que su raíz cuadrada, entonces también tendría \n",
    "        #un divisor menor que su raíz cuadrada, y viceversa\n",
    "        if num % i == 0:\n",
    "            es_primo = False\n",
    "            break\n",
    "    if es_primo:\n",
    "        print(num)\n",
    "print('Cantidad de ciclos: ', conBreak)\n",
    "print('Porcentaje de reduccion de ciclos: ', 100*conBreak/sinBreak, '%')"
   ]
  },
  {
   "attachments": {},
   "cell_type": "markdown",
   "metadata": {},
   "source": [
    "12) Aplicando continue, armar un ciclo while que solo imprima los valores divisibles por 12, dentro del rango de números de 100 a 300"
   ]
  },
  {
   "cell_type": "code",
   "execution_count": 44,
   "metadata": {},
   "outputs": [
    {
     "name": "stdout",
     "output_type": "stream",
     "text": [
      "Numeros divibles entre 12 en el rango (100-300):\n",
      "108\n",
      "120\n",
      "132\n",
      "144\n",
      "156\n",
      "168\n",
      "180\n",
      "192\n",
      "204\n",
      "216\n",
      "228\n",
      "240\n",
      "252\n",
      "264\n",
      "276\n",
      "288\n",
      "300\n",
      "Cantidad de numeros divibles entre 12 en el rango (100-300): 17\n"
     ]
    }
   ],
   "source": [
    "cantidad= 0\n",
    "print('Numeros divibles entre 12 en el rango (100-300):')\n",
    "for i in range(100, 301):\n",
    "    if i%12 != 0:\n",
    "        continue\n",
    "    print(i)\n",
    "    cantidad += 1\n",
    "print('Cantidad de numeros divibles entre 12 en el rango (100-300):', cantidad)"
   ]
  },
  {
   "attachments": {},
   "cell_type": "markdown",
   "metadata": {},
   "source": [
    "13) Utilizar la función **input()** que permite hacer ingresos por teclado, para encontrar números primos y dar la opción al usario de buscar el siguiente"
   ]
  },
  {
   "cell_type": "code",
   "execution_count": 53,
   "metadata": {},
   "outputs": [
    {
     "name": "stdout",
     "output_type": "stream",
     "text": [
      "El numero 34 no es primo\n",
      "El numero 56 no es primo\n",
      "El numero 4 no es primo\n",
      "El numero 3 es primo\n",
      "El numero 11 es primo\n",
      "El numero 6 no es primo\n",
      "El numero 21 no es primo\n",
      "El numero 7 es primo\n"
     ]
    }
   ],
   "source": [
    "num = int(input(\"Por favor, ingresa un número entero, escriba 0 para salir: \"))\n",
    "while num != 0:\n",
    "    es_primo= True\n",
    "    for i in range(2, int(num ** 0.5) + 1):\n",
    "        #para determinar si es primo, solo necesitamos buscar hasta la raíz cuadrada de ese número. \n",
    "        #Esto se debe a que si un número tiene un divisor mayor que su raíz cuadrada, entonces también tendría \n",
    "        #un divisor menor que su raíz cuadrada, y viceversa\n",
    "        if num % i == 0:\n",
    "            es_primo = False\n",
    "            break\n",
    "    if es_primo:\n",
    "        print(f\"El numero {num} es primo\")\n",
    "    else:\n",
    "        print(f\"El numero {num} no es primo\")\n",
    "    num = int(input(\"Por favor, ingresa un número entero, escriba 0 para salir: \"))"
   ]
  },
  {
   "attachments": {},
   "cell_type": "markdown",
   "metadata": {},
   "source": [
    "14) Crear un ciclo while que encuentre dentro del rango de 100 a 300 el primer número divisible por 3 y además múltiplo de 6"
   ]
  },
  {
   "cell_type": "code",
   "execution_count": 63,
   "metadata": {},
   "outputs": [
    {
     "name": "stdout",
     "output_type": "stream",
     "text": [
      "El primer número divisible por 3 y múltiplo de 6 en el rango de 100 a 300 es: 102\n"
     ]
    }
   ],
   "source": [
    "numero = 100\n",
    "while numero <= 300:\n",
    "    if numero % 6 == 0 : #todo multiplo de 6 tambien es divisible por 3\n",
    "        print(f\"El primer número divisible por 3 y múltiplo de 6 en el rango de 100 a 300 es: {numero}\")\n",
    "        break\n",
    "    numero += 1"
   ]
  }
 ],
 "metadata": {
  "interpreter": {
   "hash": "c85384e4cb51c8b72350f3a8712cc8351fdc3955e32a27f9b60c6242ab125f01"
  },
  "kernelspec": {
   "display_name": "Python 3 (ipykernel)",
   "language": "python",
   "name": "python3"
  },
  "language_info": {
   "codemirror_mode": {
    "name": "ipython",
    "version": 3
   },
   "file_extension": ".py",
   "mimetype": "text/x-python",
   "name": "python",
   "nbconvert_exporter": "python",
   "pygments_lexer": "ipython3",
   "version": "3.10.4"
  }
 },
 "nbformat": 4,
 "nbformat_minor": 4
}
