{
 "cells": [
  {
   "cell_type": "code",
   "execution_count": 15,
   "metadata": {},
   "outputs": [
    {
     "name": "stdout",
     "output_type": "stream",
     "text": [
      "cereza\n"
     ]
    }
   ],
   "source": [
    "mi_lista = [\"manzana\", \"banana\", \"cereza\", \"dátil\"]\n",
    "tercer_elemento = mi_lista[2]\n",
    "print(tercer_elemento)  # salida: \"cereza\""
   ]
  },
  {
   "cell_type": "code",
   "execution_count": 16,
   "metadata": {},
   "outputs": [],
   "source": [
    "listaNumeros= [20, 21, 22, 23, 24]\n",
    "listaColores= ['rojo', 'azul', 'verde', 'amarillo', 'violeta']\n",
    "listaVacia= []\n"
   ]
  },
  {
   "cell_type": "code",
   "execution_count": 17,
   "metadata": {},
   "outputs": [
    {
     "name": "stdout",
     "output_type": "stream",
     "text": [
      "[20, 21, 22, 23, 24]\n",
      "['rojo', 'azul', 'verde', 'amarillo', 'violeta']\n",
      "[]\n"
     ]
    }
   ],
   "source": [
    "print(listaNumeros)\n",
    "print(listaColores)\n",
    "print(listaVacia)"
   ]
  },
  {
   "cell_type": "code",
   "execution_count": 18,
   "metadata": {},
   "outputs": [
    {
     "name": "stdout",
     "output_type": "stream",
     "text": [
      "azul\n",
      "['rojo', 'azul', 'verde']\n",
      "['rojo', 'azul', 'verde']\n",
      "['verde', 'amarillo', 'violeta']\n"
     ]
    }
   ],
   "source": [
    "print(listaColores[1])\n",
    "print(listaColores[0:3])\n",
    "print(listaColores[:3])\n",
    "print(listaColores[2:])"
   ]
  },
  {
   "cell_type": "code",
   "execution_count": 19,
   "metadata": {},
   "outputs": [
    {
     "name": "stdout",
     "output_type": "stream",
     "text": [
      "['rojo', 'azul', 'verde', 'amarillo', 'violeta', 'blanco']\n"
     ]
    }
   ],
   "source": [
    "listaColores.append('blanco')\n",
    "print(listaColores)"
   ]
  },
  {
   "cell_type": "code",
   "execution_count": 20,
   "metadata": {},
   "outputs": [
    {
     "name": "stdout",
     "output_type": "stream",
     "text": [
      "['rojo', 'azul', 'verde', 'negro', 'amarillo', 'violeta', 'blanco']\n"
     ]
    }
   ],
   "source": [
    "listaColores.insert(3,'negro')\n",
    "print(listaColores)"
   ]
  },
  {
   "cell_type": "code",
   "execution_count": 21,
   "metadata": {},
   "outputs": [
    {
     "name": "stdout",
     "output_type": "stream",
     "text": [
      "['rojo', 'azul', 'verde', 'negro', 'amarillo', 'violeta', 'blanco', 'rosa', 'naranja']\n"
     ]
    }
   ],
   "source": [
    "#concatenar listas\n",
    "listaColores.extend(['rosa', 'naranja'])\n",
    "print(listaColores)"
   ]
  },
  {
   "cell_type": "code",
   "execution_count": 22,
   "metadata": {},
   "outputs": [
    {
     "data": {
      "text/plain": [
       "1"
      ]
     },
     "execution_count": 22,
     "metadata": {},
     "output_type": "execute_result"
    }
   ],
   "source": [
    "#mostrar en cual indice se encuentra el elemento azul\n",
    "listaColores.index('azul')"
   ]
  },
  {
   "cell_type": "code",
   "execution_count": 23,
   "metadata": {},
   "outputs": [
    {
     "name": "stdout",
     "output_type": "stream",
     "text": [
      "['rojo', 'azul', 'negro', 'amarillo', 'violeta', 'blanco', 'rosa', 'naranja']\n"
     ]
    }
   ],
   "source": [
    "listaColores.remove('verde')\n",
    "print(listaColores)"
   ]
  },
  {
   "cell_type": "code",
   "execution_count": 24,
   "metadata": {},
   "outputs": [
    {
     "name": "stdout",
     "output_type": "stream",
     "text": [
      "['rojo', 'azul', 'negro', 'amarillo', 'violeta', 'blanco', 'rosa']\n"
     ]
    }
   ],
   "source": [
    "#elimina el ultimo elemento de la lista\n",
    "listaColores.pop()\n",
    "print(listaColores)"
   ]
  },
  {
   "cell_type": "code",
   "execution_count": 25,
   "metadata": {},
   "outputs": [
    {
     "name": "stdout",
     "output_type": "stream",
     "text": [
      "['rojo', 'negro', 'amarillo', 'violeta', 'blanco', 'rosa']\n"
     ]
    }
   ],
   "source": [
    "#elimina el elemento que esta en el indice indicado\n",
    "segundo= listaColores.pop(1)\n",
    "print(listaColores)"
   ]
  },
  {
   "cell_type": "code",
   "execution_count": 26,
   "metadata": {},
   "outputs": [
    {
     "name": "stdout",
     "output_type": "stream",
     "text": [
      "azul\n"
     ]
    }
   ],
   "source": [
    "print(segundo)"
   ]
  },
  {
   "cell_type": "code",
   "execution_count": 27,
   "metadata": {},
   "outputs": [
    {
     "name": "stdout",
     "output_type": "stream",
     "text": [
      "[20, 21, 22, 23, 24]\n",
      "[20, 21, 22, 23, 24, 20, 21, 22, 23, 24, 20, 21, 22, 23, 24]\n"
     ]
    }
   ],
   "source": [
    "print(listaNumeros)\n",
    "print(listaNumeros*3) #repite los elementos de la lista 3 veces al final"
   ]
  },
  {
   "cell_type": "code",
   "execution_count": 28,
   "metadata": {},
   "outputs": [
    {
     "name": "stdout",
     "output_type": "stream",
     "text": [
      "[1, 3, 5, 7, 9]\n"
     ]
    }
   ],
   "source": [
    "#ordenar los elementos de la lista\n",
    "lista= [3, 1, 5 , 9, 7]\n",
    "lista.sort()\n",
    "print(lista)"
   ]
  },
  {
   "cell_type": "code",
   "execution_count": 29,
   "metadata": {},
   "outputs": [
    {
     "name": "stdout",
     "output_type": "stream",
     "text": [
      "['amarillo', 'blanco', 'negro', 'rojo', 'rosa', 'violeta']\n"
     ]
    }
   ],
   "source": [
    "#ordenamos alfabeticamente\n",
    "listaColores.sort()\n",
    "print(listaColores)"
   ]
  },
  {
   "cell_type": "code",
   "execution_count": 30,
   "metadata": {},
   "outputs": [
    {
     "name": "stdout",
     "output_type": "stream",
     "text": [
      "[10, 8, 6, 5, 4, 2, 1]\n"
     ]
    }
   ],
   "source": [
    "#ordenar de mayor a menor\n",
    "lista2= [4, 2, 1, 6, 8, 5, 10]\n",
    "lista2.sort(reverse=True)\n",
    "print(lista2)"
   ]
  },
  {
   "cell_type": "code",
   "execution_count": 1,
   "metadata": {},
   "outputs": [
    {
     "name": "stdout",
     "output_type": "stream",
     "text": [
      "martes\n"
     ]
    }
   ],
   "source": [
    "tupla_dias= ('lunes', 'martes', 'miércoles','jueves','viernes','sábado', 'domingo')\n",
    "\n",
    "print(tupla_dias[1])"
   ]
  },
  {
   "cell_type": "code",
   "execution_count": 12,
   "metadata": {},
   "outputs": [
    {
     "data": {
      "text/plain": [
       "True"
      ]
     },
     "execution_count": 12,
     "metadata": {},
     "output_type": "execute_result"
    }
   ],
   "source": [
    "\"martes\" in tupla_dias"
   ]
  },
  {
   "cell_type": "code",
   "execution_count": 13,
   "metadata": {},
   "outputs": [
    {
     "data": {
      "text/plain": [
       "False"
      ]
     },
     "execution_count": 13,
     "metadata": {},
     "output_type": "execute_result"
    }
   ],
   "source": [
    "\"Martes\" in tupla_dias"
   ]
  },
  {
   "cell_type": "code",
   "execution_count": 14,
   "metadata": {},
   "outputs": [
    {
     "data": {
      "text/plain": [
       "1"
      ]
     },
     "execution_count": 14,
     "metadata": {},
     "output_type": "execute_result"
    }
   ],
   "source": [
    "tupla_dias.count(\"jueves\")"
   ]
  },
  {
   "cell_type": "code",
   "execution_count": 8,
   "metadata": {},
   "outputs": [
    {
     "name": "stdout",
     "output_type": "stream",
     "text": [
      "[1, 3, 5, 7, 9, 11, 13, 15, 17, 19, 21]\n",
      "1 7 9\n"
     ]
    }
   ],
   "source": [
    "tupla_impares=(1,3,5,7,9,11,13,15,17,19,21)\n",
    "primero = tupla_impares[0]\n",
    "cuarto = tupla_impares[3]\n",
    "quinto = tupla_impares[4]\n",
    "lista_impares= list(tupla_impares)\n",
    "print(lista_impares)\n",
    "print(primero,cuarto,quinto)"
   ]
  },
  {
   "cell_type": "code",
   "execution_count": 10,
   "metadata": {},
   "outputs": [
    {
     "name": "stdout",
     "output_type": "stream",
     "text": [
      "(1, 3, 5, 7, 9, 11, 13, 15, 17, 19, 21)\n"
     ]
    }
   ],
   "source": [
    "nueva_tupla=tuple(lista_impares)\n",
    "print(nueva_tupla)"
   ]
  },
  {
   "cell_type": "code",
   "execution_count": 16,
   "metadata": {},
   "outputs": [
    {
     "data": {
      "text/plain": [
       "tuple"
      ]
     },
     "execution_count": 16,
     "metadata": {},
     "output_type": "execute_result"
    }
   ],
   "source": [
    "#para crear una tupla con un solo elemento se debe colocar una coma despues del elemento porque de lo contrario se crea como un str\n",
    "tupla_unitaria = (\"blanco\",)\n",
    "type(tupla_unitaria)"
   ]
  },
  {
   "cell_type": "code",
   "execution_count": 17,
   "metadata": {},
   "outputs": [
    {
     "data": {
      "text/plain": [
       "('martes', 'miércoles')"
      ]
     },
     "execution_count": 17,
     "metadata": {},
     "output_type": "execute_result"
    }
   ],
   "source": [
    "tupla_dias[1:3]"
   ]
  },
  {
   "cell_type": "code",
   "execution_count": 4,
   "metadata": {},
   "outputs": [
    {
     "name": "stdout",
     "output_type": "stream",
     "text": [
      "(11, 22, 'Henry')\n"
     ]
    }
   ],
   "source": [
    "#empaquetado\n",
    "x=11\n",
    "y=22\n",
    "z=\"Henry\"\n",
    "mi_tupla= x,y,z\n",
    "print(mi_tupla)"
   ]
  },
  {
   "cell_type": "code",
   "execution_count": 18,
   "metadata": {},
   "outputs": [
    {
     "name": "stdout",
     "output_type": "stream",
     "text": [
      "(22, 'agosto', 1999)\n"
     ]
    },
    {
     "data": {
      "text/plain": [
       "tuple"
      ]
     },
     "execution_count": 18,
     "metadata": {},
     "output_type": "execute_result"
    }
   ],
   "source": [
    "#desempaquetado\n",
    "lista_fecha= (22, \"agosto\", 1999)\n",
    "print(lista_fecha)\n",
    "type(lista_fecha)"
   ]
  },
  {
   "cell_type": "code",
   "execution_count": 19,
   "metadata": {},
   "outputs": [],
   "source": [
    "dia, mes, anio= lista_fecha"
   ]
  },
  {
   "cell_type": "code",
   "execution_count": 20,
   "metadata": {},
   "outputs": [
    {
     "name": "stdout",
     "output_type": "stream",
     "text": [
      "agosto\n"
     ]
    }
   ],
   "source": [
    "print(mes)"
   ]
  }
 ],
 "metadata": {
  "kernelspec": {
   "display_name": "Python 3",
   "language": "python",
   "name": "python3"
  },
  "language_info": {
   "codemirror_mode": {
    "name": "ipython",
    "version": 3
   },
   "file_extension": ".py",
   "mimetype": "text/x-python",
   "name": "python",
   "nbconvert_exporter": "python",
   "pygments_lexer": "ipython3",
   "version": "3.10.4"
  }
 },
 "nbformat": 4,
 "nbformat_minor": 2
}
