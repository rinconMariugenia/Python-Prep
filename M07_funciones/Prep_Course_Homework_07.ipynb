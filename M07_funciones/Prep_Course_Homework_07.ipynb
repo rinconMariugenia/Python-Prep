{
 "cells": [
  {
   "attachments": {},
   "cell_type": "markdown",
   "metadata": {},
   "source": [
    "## Funciones"
   ]
  },
  {
   "attachments": {},
   "cell_type": "markdown",
   "metadata": {},
   "source": [
    "1) Crear una función que reciba un número como parámetro y devuelva True si es primo y False si no lo es"
   ]
  },
  {
   "cell_type": "code",
   "execution_count": 1,
   "metadata": {},
   "outputs": [],
   "source": [
    "#Entonces, en Python por defecto los valores simples se pasan por valor (int, float, string, bool, complex)\n",
    "def primos(numero):\n",
    "        \"\"\"\n",
    "    Determina si un número es primo.\n",
    "\n",
    "    Args:\n",
    "    numero (int): El número a verificar.\n",
    "\n",
    "    Returns:\n",
    "    bool: True si el número es primo, False en caso contrario.\n",
    "    \"\"\"\n",
    "        if numero <= 1:\n",
    "           return False  # Los números menores o iguales a 1 no son primos\n",
    "        if numero == 2:\n",
    "           return True  # 2 es el único número par primo\n",
    "        if numero % 2 == 0:\n",
    "           return False  # Cualquier otro número par no es primo\n",
    "\n",
    "    # Verificar divisores desde 3 hasta la raíz cuadrada de n\n",
    "        for i in range(3, int(numero**0.5) + 1, 2):\n",
    "           #Inicia en 3: Comienza la verificación desde 3 (el primer número impar mayor que 2)\n",
    "           #Termina en la raíz cuadrada de numero + 1: Solo verifica hasta la raíz cuadrada del número, ya que si numero tiene un divisor mayor que su raíz cuadrada, tendrá un divisor menor que su raíz cuadrada también.\n",
    "           #Se suma 1 para incluir el límite superior en el rango. Por ejemplo, si numero es 25, numero**0.5 es 5. Sin el + 1, range() generaría números solo hasta 4, omitiendo 5. Queremos asegurarnos de incluir el límite superior en nuestra verificación\n",
    "           #Incrementa de 2 en 2: Solo verifica los números impares, lo que mejora la eficiencia.\n",
    "           if numero % i == 0:\n",
    "               return False  # Si encontramos un divisor, el número no es primo\n",
    "\n",
    "        return True  # Si no encontramos divisores, el número es primo"
   ]
  },
  {
   "cell_type": "code",
   "execution_count": 8,
   "metadata": {},
   "outputs": [
    {
     "name": "stdout",
     "output_type": "stream",
     "text": [
      "True\n",
      "False\n",
      "True\n",
      "False\n",
      "False\n"
     ]
    }
   ],
   "source": [
    "print(primos(13))\n",
    "print(primos(6))\n",
    "print(primos(2))\n",
    "print(primos(1))\n",
    "print(primos(14))"
   ]
  },
  {
   "attachments": {},
   "cell_type": "markdown",
   "metadata": {},
   "source": [
    "2) Utilizando la función del punto 1, realizar otra función que reciba de parámetro una lista de números y devuelva sólo aquellos que son primos en otra lista"
   ]
  },
  {
   "cell_type": "code",
   "execution_count": 3,
   "metadata": {},
   "outputs": [],
   "source": [
    "\n",
    "def primoLista(lista):\n",
    "    for num in lista:\n",
    "        es_primo = True\n",
    "        for i in range(2, int(num ** 0.5) + 1):\n",
    "            #para determinar si es primo, solo necesitamos buscar hasta la raíz cuadrada de ese número. \n",
    "            #Esto se debe a que si un número tiene un divisor mayor que su raíz cuadrada, entonces también tendría \n",
    "            #un divisor menor que su raíz cuadrada, y viceversa\n",
    "            if num % i == 0:\n",
    "                es_primo = False\n",
    "                break\n",
    "        if es_primo:\n",
    "            print(num)"
   ]
  },
  {
   "cell_type": "code",
   "execution_count": 4,
   "metadata": {},
   "outputs": [
    {
     "name": "stdout",
     "output_type": "stream",
     "text": [
      "1\n",
      "2\n",
      "7\n",
      "11\n",
      "19\n",
      "13\n",
      "31\n",
      "3\n"
     ]
    }
   ],
   "source": [
    "listaNum= [1, 2, 4, 8, 7, 11, 12, 21, 19, 30, 13, 18, 9, 31, 3]\n",
    "primoLista(listaNum)"
   ]
  },
  {
   "attachments": {},
   "cell_type": "markdown",
   "metadata": {},
   "source": [
    "3) Crear una función que al recibir una lista de números, devuelva el que más se repite y cuántas veces lo hace. Si hay más de un \"más repetido\", que devuelva cualquiera"
   ]
  },
  {
   "cell_type": "code",
   "execution_count": 8,
   "metadata": {},
   "outputs": [],
   "source": [
    "#usando la funcion .count()\n",
    "def repetidos(lista):\n",
    "    max_repeticiones = 0\n",
    "    numero_mas_repetido = None\n",
    "\n",
    "    # Iterar sobre la lista para contar las repeticiones de cada número\n",
    "    for numero in lista:\n",
    "            repeticiones = lista.count(numero)\n",
    "            if repeticiones > max_repeticiones:\n",
    "                max_repeticiones = repeticiones\n",
    "                numero_mas_repetido = numero\n",
    "            return numero_mas_repetido, max_repeticiones"
   ]
  },
  {
   "cell_type": "code",
   "execution_count": 10,
   "metadata": {},
   "outputs": [
    {
     "name": "stdout",
     "output_type": "stream",
     "text": [
      "El número que más se repite es 1 y se repite 4 veces.\n"
     ]
    }
   ],
   "source": [
    "lista2 = [1, 2, 3, 1, 2, 1, 4, 5, 1, 2, 3, 2]\n",
    "numero, repeticiones = repetidos(lista2)\n",
    "print(f\"El número que más se repite es {numero} y se repite {repeticiones} veces.\")"
   ]
  },
  {
   "cell_type": "code",
   "execution_count": 11,
   "metadata": {},
   "outputs": [],
   "source": [
    "#usando un diccionario\n",
    "def repetido(lista):\n",
    "    contador = {}\n",
    "    for numero in lista:\n",
    "        if numero in contador:\n",
    "            contador[numero] += 1\n",
    "        else:\n",
    "            contador[numero] = 1\n",
    "\n",
    "    # Encontrar el número más repetido y su cantidad de repeticiones\n",
    "    numero_mas_repetido = max(contador, key=contador.get)\n",
    "    max_repeticiones = contador[numero_mas_repetido]\n",
    "    print(contador)\n",
    "    return numero_mas_repetido, max_repeticiones,"
   ]
  },
  {
   "cell_type": "code",
   "execution_count": 12,
   "metadata": {},
   "outputs": [
    {
     "name": "stdout",
     "output_type": "stream",
     "text": [
      "{1: 4, 2: 4, 3: 2, 4: 1, 5: 1}\n",
      "El número que más se repite es 1 y se repite 4 veces.\n"
     ]
    }
   ],
   "source": [
    "lista = [1, 2, 3, 1, 2, 1, 4, 5, 1, 2, 3, 2]\n",
    "numero, repeticiones = repetido(lista)\n",
    "print(f\"El número que más se repite es {numero} y se repite {repeticiones} veces.\")"
   ]
  },
  {
   "attachments": {},
   "cell_type": "markdown",
   "metadata": {},
   "source": [
    "4) Crear una función que convierta entre grados Celsius, Farenheit y Kelvin<br>\n",
    "Fórmula 1\t: (°C × 9/5) + 32 = °F<br>\n",
    "Fórmula 2\t: °C + 273.15 = °K<br>\n",
    "Debe recibir 3 parámetros: el valor, la medida de orígen y la medida de destino\n"
   ]
  },
  {
   "cell_type": "code",
   "execution_count": 36,
   "metadata": {},
   "outputs": [],
   "source": [
    "#Con entradas interactivas\n",
    "def convertirTemperatura(valor=0, a=\"\", b=\"\"):\n",
    "    #resultado=0\n",
    "    print(\"Para elegir unidad Kelvin ingrese K, para Celsius C y para Farenheit F\")\n",
    "    valor = float(input(\"Ingrese un valor flotante: \"))\n",
    "    a = input(\"Ingrese la unidad de origen: \").upper()\n",
    "    b = input(\"Ingrese la unidad de destino: \").upper()\n",
    "    if a==\"C\" and b==\"K\":\n",
    "        resultado= valor + 273.15\n",
    "    elif a==\"C\" and b==\"F\":\n",
    "        resultado= (valor*9/5)+32\n",
    "    elif a==\"K\" and b==\"C\":\n",
    "        resultado= valor - 273.15\n",
    "    elif a==\"K\" and b==\"F\":\n",
    "        resultado= ((valor - 273.15)*9/5)+32\n",
    "    elif a==\"F\" and b==\"C\":\n",
    "        resultado= (valor-32)*5/9\n",
    "    elif a==\"F\" and b==\"K\":\n",
    "        resultado= (valor-32)*5/9 + 273.15\n",
    "    else:\n",
    "        return \"Conversión no válida\"\n",
    "    return print(f\"La temperatura {valor} en grados {a} es igual a {resultado:.2f} en grados {b}.\")\n"
   ]
  },
  {
   "cell_type": "code",
   "execution_count": 35,
   "metadata": {},
   "outputs": [
    {
     "name": "stdout",
     "output_type": "stream",
     "text": [
      "Para elegir unidad Kelvin ingrese K, para Celsius C y para Farenheit F\n",
      "La temperatura 100.0 en grados C es igual a 212.00 en grados F.\n"
     ]
    }
   ],
   "source": [
    "convertirTemperatura()"
   ]
  },
  {
   "cell_type": "code",
   "execution_count": 37,
   "metadata": {},
   "outputs": [],
   "source": [
    "#Recibiendo los parametros directamente\n",
    "def convertirTemperatura2(valor, a, b):\n",
    "    if a == \"C\" and b == \"K\":\n",
    "        resultado = valor + 273.15\n",
    "    elif a == \"C\" and b == \"F\":\n",
    "        resultado = (valor * 9/5) + 32\n",
    "    elif a == \"K\" and b == \"C\":\n",
    "        resultado = valor - 273.15\n",
    "    elif a == \"K\" and b == \"F\":\n",
    "        resultado = ((valor - 273.15) * 9/5) + 32\n",
    "    elif a == \"F\" and b == \"C\":\n",
    "        resultado = (valor - 32) * 5/9\n",
    "    elif a == \"F\" and b == \"K\":\n",
    "        resultado = (valor - 32) * 5/9 + 273.15\n",
    "    else:\n",
    "        return \"Conversión no válida\"\n",
    "    \n",
    "    return f\"La temperatura {valor} en grados {a} es igual a {resultado:.2f} en grados {b}.\""
   ]
  },
  {
   "cell_type": "code",
   "execution_count": 38,
   "metadata": {},
   "outputs": [
    {
     "data": {
      "text/plain": [
       "'La temperatura 100 en grados C es igual a 212.00 en grados F.'"
      ]
     },
     "execution_count": 38,
     "metadata": {},
     "output_type": "execute_result"
    }
   ],
   "source": [
    "convertirTemperatura2(100, \"C\", \"F\")"
   ]
  },
  {
   "attachments": {},
   "cell_type": "markdown",
   "metadata": {},
   "source": [
    "5) Iterando una lista con los tres valores posibles de temperatura que recibe la función del punto 5, hacer un print para cada combinación de los mismos:"
   ]
  },
  {
   "cell_type": "code",
   "execution_count": 39,
   "metadata": {},
   "outputs": [],
   "source": [
    "def imprimirTodasLasConversiones(valor):\n",
    "    unidades = [\"C\", \"F\", \"K\"]\n",
    "    \n",
    "    for origen in unidades:\n",
    "        for destino in unidades:\n",
    "            if origen != destino:  # Evitar convertir a la misma unidad\n",
    "                print(convertirTemperatura2(valor, origen, destino))"
   ]
  },
  {
   "cell_type": "code",
   "execution_count": 40,
   "metadata": {},
   "outputs": [
    {
     "name": "stdout",
     "output_type": "stream",
     "text": [
      "La temperatura 100 en grados C es igual a 212.00 en grados F.\n",
      "La temperatura 100 en grados C es igual a 373.15 en grados K.\n",
      "La temperatura 100 en grados F es igual a 37.78 en grados C.\n",
      "La temperatura 100 en grados F es igual a 310.93 en grados K.\n",
      "La temperatura 100 en grados K es igual a -173.15 en grados C.\n",
      "La temperatura 100 en grados K es igual a -279.67 en grados F.\n"
     ]
    }
   ],
   "source": [
    "imprimirTodasLasConversiones(100)"
   ]
  },
  {
   "attachments": {},
   "cell_type": "markdown",
   "metadata": {},
   "source": [
    "6) Armar una función que devuelva el factorial de un número. Tener en cuenta que el usuario puede equivocarse y enviar de parámetro un número no entero o negativo"
   ]
  },
  {
   "cell_type": "code",
   "execution_count": 41,
   "metadata": {},
   "outputs": [],
   "source": [
    "def factorial(n):\n",
    "    # Verificar si el número no es un entero positivo\n",
    "    if not isinstance(n, int) or n < 0:  #También podría usar: if type(n) != int or n < 0:\n",
    "        return \"El factorial solo se define para enteros positivos.\"\n",
    "\n",
    "    # Caso base: factorial de 0 es 1\n",
    "    if n == 0:\n",
    "        return 1\n",
    "    \n",
    "    # Caso recursivo: n! = n * (n-1)!\n",
    "    return n * factorial(n - 1)"
   ]
  },
  {
   "cell_type": "code",
   "execution_count": 47,
   "metadata": {},
   "outputs": [
    {
     "data": {
      "text/plain": [
       "'El factorial solo se define para enteros positivos.'"
      ]
     },
     "execution_count": 47,
     "metadata": {},
     "output_type": "execute_result"
    }
   ],
   "source": [
    "factorial(\"w\")"
   ]
  }
 ],
 "metadata": {
  "interpreter": {
   "hash": "c85384e4cb51c8b72350f3a8712cc8351fdc3955e32a27f9b60c6242ab125f01"
  },
  "kernelspec": {
   "display_name": "Python 3 (ipykernel)",
   "language": "python",
   "name": "python3"
  },
  "language_info": {
   "codemirror_mode": {
    "name": "ipython",
    "version": 3
   },
   "file_extension": ".py",
   "mimetype": "text/x-python",
   "name": "python",
   "nbconvert_exporter": "python",
   "pygments_lexer": "ipython3",
   "version": "3.10.4"
  }
 },
 "nbformat": 4,
 "nbformat_minor": 4
}
